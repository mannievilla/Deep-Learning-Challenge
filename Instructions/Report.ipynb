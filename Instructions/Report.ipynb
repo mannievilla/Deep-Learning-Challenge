{
 "cells": [
  {
   "cell_type": "markdown",
   "metadata": {},
   "source": [
    "   * Data Preprocessing"
   ]
  },
  {
   "cell_type": "raw",
   "metadata": {},
   "source": [
    "  * What variable(s) are considered the target(s) for your model?\n",
    "      The  IS SUCCESSFUL column in  the data.\n",
    "  \n",
    "  * What variable(s) are considered to be the features for your model?\n",
    "      The reamaing columns minus the EIN column. We removed only that column to achieve the 75%.\n",
    "      \n",
    "  * What variable(s) are neither targets nor features, and should be removed from the input data?\n",
    "      The EIN or the NAME could have been removed. But if you remove both achieving a 75% may not be attainable."
   ]
  },
  {
   "cell_type": "markdown",
   "metadata": {},
   "source": [
    "  * Compiling, Training, and Evaluating the Model"
   ]
  },
  {
   "cell_type": "raw",
   "metadata": {},
   "source": [
    "  * How many neurons, layers, and activation functions did you select for your neural network model, and why?\n",
    "      Well the nuerons were ajusted to 100, 30, 10 with three layers each set to \"sigmoid\" as the activiation function.\n",
    "      This was one of the first things I adjusted. I also removed different features if that improved the model but \n",
    "      ultimately left them in tact due little or no change to model. The increase of epochs also yielded litle significant\n",
    "      change. \n",
    "      \n",
    "  * Were you able to achieve the target model performance?\n",
    "      Yes!\n",
    "      \n",
    "  * What steps did you take to try and increase model performance?\n",
    "      The first thing I realized was adjusting the nuerons, epochs, and or features didn't really do much for my model.\n",
    "      It was when I added the NAME feature back and saw that each company was associated with a good record of success \n",
    "      that this was the key to getting to the model to run better than 75% accuracy. "
   ]
  },
  {
   "cell_type": "markdown",
   "metadata": {},
   "source": [
    "  * Summary"
   ]
  },
  {
   "cell_type": "raw",
   "metadata": {},
   "source": [
    "        Best way I can describe why the model worked with the adding of the names is similar to a loan company that has to lend money and the the first thing they do is look at a cedit score that associateed with your SSN. Answerin the simple question: Do you pay your debts? So adding the NAME and coupled with success rate, this allowed the model to better predict who or what entity will be successful in paying back debt."
   ]
  }
 ],
 "metadata": {
  "kernelspec": {
   "display_name": "Python 3",
   "language": "python",
   "name": "python3"
  },
  "language_info": {
   "codemirror_mode": {
    "name": "ipython",
    "version": 3
   },
   "file_extension": ".py",
   "mimetype": "text/x-python",
   "name": "python",
   "nbconvert_exporter": "python",
   "pygments_lexer": "ipython3",
   "version": "3.6.10"
  }
 },
 "nbformat": 4,
 "nbformat_minor": 4
}
